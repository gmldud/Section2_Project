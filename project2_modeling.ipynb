{
  "nbformat": 4,
  "nbformat_minor": 0,
  "metadata": {
    "colab": {
      "name": "project2_modeling.ipynb",
      "provenance": [],
      "collapsed_sections": [],
      "authorship_tag": "ABX9TyOxAXHQmGqOHX0H+/IZXMVk",
      "include_colab_link": true
    },
    "kernelspec": {
      "name": "python3",
      "display_name": "Python 3"
    },
    "language_info": {
      "name": "python"
    },
    "widgets": {
      "application/vnd.jupyter.widget-state+json": {
        "fa4d6dc2ab074926935e8ac21d3ed181": {
          "model_module": "@jupyter-widgets/controls",
          "model_name": "VBoxModel",
          "model_module_version": "1.5.0",
          "state": {
            "_view_name": "VBoxView",
            "_dom_classes": [
              "widget-interact"
            ],
            "_model_name": "VBoxModel",
            "_view_module": "@jupyter-widgets/controls",
            "_model_module_version": "1.5.0",
            "_view_count": null,
            "_view_module_version": "1.5.0",
            "box_style": "",
            "layout": "IPY_MODEL_f3b143644b5c4b7396f1afc365e22822",
            "_model_module": "@jupyter-widgets/controls",
            "children": [
              "IPY_MODEL_1650b333ffd54ae092fbb42317288369",
              "IPY_MODEL_4f924d189e924def9baf303c58671bd7"
            ]
          }
        },
        "f3b143644b5c4b7396f1afc365e22822": {
          "model_module": "@jupyter-widgets/base",
          "model_name": "LayoutModel",
          "model_module_version": "1.2.0",
          "state": {
            "_view_name": "LayoutView",
            "grid_template_rows": null,
            "right": null,
            "justify_content": null,
            "_view_module": "@jupyter-widgets/base",
            "overflow": null,
            "_model_module_version": "1.2.0",
            "_view_count": null,
            "flex_flow": null,
            "width": null,
            "min_width": null,
            "border": null,
            "align_items": null,
            "bottom": null,
            "_model_module": "@jupyter-widgets/base",
            "top": null,
            "grid_column": null,
            "overflow_y": null,
            "overflow_x": null,
            "grid_auto_flow": null,
            "grid_area": null,
            "grid_template_columns": null,
            "flex": null,
            "_model_name": "LayoutModel",
            "justify_items": null,
            "grid_row": null,
            "max_height": null,
            "align_content": null,
            "visibility": null,
            "align_self": null,
            "height": null,
            "min_height": null,
            "padding": null,
            "grid_auto_rows": null,
            "grid_gap": null,
            "max_width": null,
            "order": null,
            "_view_module_version": "1.2.0",
            "grid_template_areas": null,
            "object_position": null,
            "object_fit": null,
            "grid_auto_columns": null,
            "margin": null,
            "display": null,
            "left": null
          }
        },
        "1650b333ffd54ae092fbb42317288369": {
          "model_module": "@jupyter-widgets/controls",
          "model_name": "FloatSliderModel",
          "model_module_version": "1.5.0",
          "state": {
            "_view_name": "FloatSliderView",
            "style": "IPY_MODEL_321af68d61ee42a2b493859b563ea2fa",
            "_dom_classes": [],
            "description": "threshold",
            "step": 0.01,
            "_model_name": "FloatSliderModel",
            "orientation": "horizontal",
            "max": 1,
            "_view_module": "@jupyter-widgets/controls",
            "_model_module_version": "1.5.0",
            "value": 0.18,
            "_view_count": null,
            "disabled": false,
            "_view_module_version": "1.5.0",
            "min": 0,
            "continuous_update": true,
            "readout_format": ".2f",
            "description_tooltip": null,
            "readout": true,
            "_model_module": "@jupyter-widgets/controls",
            "layout": "IPY_MODEL_e6bf6ab10a194e319c3612e84b22143e"
          }
        },
        "4f924d189e924def9baf303c58671bd7": {
          "model_module": "@jupyter-widgets/output",
          "model_name": "OutputModel",
          "model_module_version": "1.0.0",
          "state": {
            "_view_name": "OutputView",
            "msg_id": "",
            "_dom_classes": [],
            "_model_name": "OutputModel",
            "outputs": [
              {
                "output_type": "display_data",
                "data": {
                  "image/png": "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\n",
                  "text/plain": "<Figure size 432x288 with 1 Axes>"
                },
                "metadata": {
                  "needs_background": "light"
                }
              },
              {
                "output_type": "stream",
                "name": "stdout",
                "text": [
                  "              precision    recall  f1-score   support\n",
                  "\n",
                  "         0.0       0.99      0.93      0.96     90447\n",
                  "         1.0       0.45      0.91      0.60      5314\n",
                  "\n",
                  "    accuracy                           0.93     95761\n",
                  "   macro avg       0.72      0.92      0.78     95761\n",
                  "weighted avg       0.96      0.93      0.94     95761\n",
                  "\n"
                ]
              }
            ],
            "_view_module": "@jupyter-widgets/output",
            "_model_module_version": "1.0.0",
            "_view_count": null,
            "_view_module_version": "1.0.0",
            "layout": "IPY_MODEL_06c36ee8ce5a46d499a878fc073fe57f",
            "_model_module": "@jupyter-widgets/output"
          }
        },
        "321af68d61ee42a2b493859b563ea2fa": {
          "model_module": "@jupyter-widgets/controls",
          "model_name": "SliderStyleModel",
          "model_module_version": "1.5.0",
          "state": {
            "_view_name": "StyleView",
            "handle_color": null,
            "_model_name": "SliderStyleModel",
            "description_width": "",
            "_view_module": "@jupyter-widgets/base",
            "_model_module_version": "1.5.0",
            "_view_count": null,
            "_view_module_version": "1.2.0",
            "_model_module": "@jupyter-widgets/controls"
          }
        },
        "e6bf6ab10a194e319c3612e84b22143e": {
          "model_module": "@jupyter-widgets/base",
          "model_name": "LayoutModel",
          "model_module_version": "1.2.0",
          "state": {
            "_view_name": "LayoutView",
            "grid_template_rows": null,
            "right": null,
            "justify_content": null,
            "_view_module": "@jupyter-widgets/base",
            "overflow": null,
            "_model_module_version": "1.2.0",
            "_view_count": null,
            "flex_flow": null,
            "width": null,
            "min_width": null,
            "border": null,
            "align_items": null,
            "bottom": null,
            "_model_module": "@jupyter-widgets/base",
            "top": null,
            "grid_column": null,
            "overflow_y": null,
            "overflow_x": null,
            "grid_auto_flow": null,
            "grid_area": null,
            "grid_template_columns": null,
            "flex": null,
            "_model_name": "LayoutModel",
            "justify_items": null,
            "grid_row": null,
            "max_height": null,
            "align_content": null,
            "visibility": null,
            "align_self": null,
            "height": null,
            "min_height": null,
            "padding": null,
            "grid_auto_rows": null,
            "grid_gap": null,
            "max_width": null,
            "order": null,
            "_view_module_version": "1.2.0",
            "grid_template_areas": null,
            "object_position": null,
            "object_fit": null,
            "grid_auto_columns": null,
            "margin": null,
            "display": null,
            "left": null
          }
        },
        "06c36ee8ce5a46d499a878fc073fe57f": {
          "model_module": "@jupyter-widgets/base",
          "model_name": "LayoutModel",
          "model_module_version": "1.2.0",
          "state": {
            "_view_name": "LayoutView",
            "grid_template_rows": null,
            "right": null,
            "justify_content": null,
            "_view_module": "@jupyter-widgets/base",
            "overflow": null,
            "_model_module_version": "1.2.0",
            "_view_count": null,
            "flex_flow": null,
            "width": null,
            "min_width": null,
            "border": null,
            "align_items": null,
            "bottom": null,
            "_model_module": "@jupyter-widgets/base",
            "top": null,
            "grid_column": null,
            "overflow_y": null,
            "overflow_x": null,
            "grid_auto_flow": null,
            "grid_area": null,
            "grid_template_columns": null,
            "flex": null,
            "_model_name": "LayoutModel",
            "justify_items": null,
            "grid_row": null,
            "max_height": null,
            "align_content": null,
            "visibility": null,
            "align_self": null,
            "height": null,
            "min_height": null,
            "padding": null,
            "grid_auto_rows": null,
            "grid_gap": null,
            "max_width": null,
            "order": null,
            "_view_module_version": "1.2.0",
            "grid_template_areas": null,
            "object_position": null,
            "object_fit": null,
            "grid_auto_columns": null,
            "margin": null,
            "display": null,
            "left": null
          }
        }
      }
    }
  },
  "cells": [
    {
      "cell_type": "markdown",
      "metadata": {
        "id": "view-in-github",
        "colab_type": "text"
      },
      "source": [
        "<a href=\"https://colab.research.google.com/github/gmldud/what_I_did_by_myself/blob/main/project2_modeling.ipynb\" target=\"_parent\"><img src=\"https://colab.research.google.com/assets/colab-badge.svg\" alt=\"Open In Colab\"/></a>"
      ]
    },
    {
      "cell_type": "markdown",
      "metadata": {
        "id": "l9uGo36drMeW"
      },
      "source": [
        "# **Google Merchandise Sale Prediction**\n",
        "## Can we predict if a visitor, in a session, will add item(s) to the cart?"
      ]
    },
    {
      "cell_type": "markdown",
      "metadata": {
        "id": "HBr890DZpZgl"
      },
      "source": [
        "```\n",
        "fullVisitorId: - 고유 방문자 ID입니다.\n",
        "visitStartTime: - 타임스탬프(POSIX 시간으로 표시).\n",
        "date: - 세션 날짜.\n",
        "deviceCategory: - 장치 유형(모바일, 태블릿, 데스크톱).\n",
        "isMobile: - 사용자가 모바일 장치를 사용하는 경우 이 값은 true이고 그렇지 않으면 false입니다.\n",
        "operatingSystem: - 장치의 운영 체제(예: \"Macintosh\" 또는 \"Windows\").\n",
        "browser: - 사용된 브라우저(예: \"Chrome\" 또는 \"Firefox\").\n",
        "country: - IP 주소를 기반으로 세션이 시작된 국가.\n",
        "city: - IP 주소 또는 지리적 ID에서 파생된 사용자의 도시\n",
        "trafficSource: - 트래픽 소스의 소스입니다. 검색 엔진의 이름, 참조하는 호스트 이름 또는 utm_source URL 매개변수의 값일 수 있습니다.\n",
        "trafficMedium: - 트래픽 소스의 매체입니다. \"organic\", \"cpc\", \"referral\" 또는 utm_medium URL 매개변수의 값일 수 있습니다.\n",
        "trafficCampaign: - 캠페인 값입니다. 일반적으로 utm_campaign URL 매개변수로 설정됩니다.\n",
        "isFirstVisit: 방문자의 첫 번째 방문이면 1이고, 그렇지 않으면 0입니다.\n",
        "isBounce: - 방문자가 하나의 웹페이지만 방문하고 돌아오지 않으면 1이고, 그렇지 않으면 0입니다.\n",
        "totalVisits: - 세션 동안 방문자의 총 방문 수입니다.\n",
        "totalHits: - 세션 간의 총 상호작용 수입니다.\n",
        "totalPageviews: - 세션의 총 페이지 조회수입니다.\n",
        "totalTimeOnSite: - 사이트에 머문 총 시간.\n",
        "totalTransactions: - 세션 간의 총 상호작용 수입니다.\n",
        "productPagesViewed: - 세션에서 본 제품 페이지 수입니다.\n",
        "addedToCart: - 방문자가 장바구니에 항목을 추가했거나 추가 다운스트림 작업(체크아웃, 트랜잭션)을 수행한 경우,  \n",
        "               그렇지 않은 경우 0(방문자가 검색만 하고 항목을 장바구니에 추가하지 않은 경우).\n",
        "\n",
        "```"
      ]
    },
    {
      "cell_type": "code",
      "metadata": {
        "colab": {
          "base_uri": "https://localhost:8080/"
        },
        "id": "Nes5MpnH3e-_",
        "outputId": "24b49646-5a91-4750-d7f1-87886494ece7"
      },
      "source": [
        "from google.colab import drive\n",
        "drive.mount('/content/drive')"
      ],
      "execution_count": null,
      "outputs": [
        {
          "output_type": "stream",
          "name": "stdout",
          "text": [
            "Drive already mounted at /content/drive; to attempt to forcibly remount, call drive.mount(\"/content/drive\", force_remount=True).\n"
          ]
        }
      ]
    },
    {
      "cell_type": "code",
      "metadata": {
        "id": "hT7vGE0A4DQT"
      },
      "source": [
        "file_name = '/content/drive/MyDrive/Colab Notebooks/data 자료/train___.csv'"
      ],
      "execution_count": null,
      "outputs": []
    },
    {
      "cell_type": "code",
      "metadata": {
        "colab": {
          "base_uri": "https://localhost:8080/"
        },
        "id": "Dd5GArMg4K7_",
        "outputId": "e7cc1529-6bb3-43da-aff2-b73440568891"
      },
      "source": [
        "#파일 불러오기\n",
        "import pandas as pd \n",
        "data =pd.read_csv(file_name)"
      ],
      "execution_count": null,
      "outputs": [
        {
          "output_type": "stream",
          "name": "stderr",
          "text": [
            "Columns (0) have mixed types.Specify dtype option on import or set low_memory=False.\n"
          ]
        }
      ]
    },
    {
      "cell_type": "code",
      "metadata": {
        "id": "GwA2VoVPQsdn",
        "colab": {
          "base_uri": "https://localhost:8080/",
          "height": 813
        },
        "outputId": "49b97f88-6edd-4886-be4a-a4e932732277"
      },
      "source": [
        "data"
      ],
      "execution_count": null,
      "outputs": [
        {
          "output_type": "execute_result",
          "data": {
            "text/html": [
              "<div>\n",
              "<style scoped>\n",
              "    .dataframe tbody tr th:only-of-type {\n",
              "        vertical-align: middle;\n",
              "    }\n",
              "\n",
              "    .dataframe tbody tr th {\n",
              "        vertical-align: top;\n",
              "    }\n",
              "\n",
              "    .dataframe thead th {\n",
              "        text-align: right;\n",
              "    }\n",
              "</style>\n",
              "<table border=\"1\" class=\"dataframe\">\n",
              "  <thead>\n",
              "    <tr style=\"text-align: right;\">\n",
              "      <th></th>\n",
              "      <th>fullVisitorId</th>\n",
              "      <th>visitStartTime</th>\n",
              "      <th>date</th>\n",
              "      <th>deviceCategory</th>\n",
              "      <th>isMobile</th>\n",
              "      <th>operatingSystem</th>\n",
              "      <th>browser</th>\n",
              "      <th>country</th>\n",
              "      <th>city</th>\n",
              "      <th>trafficSource</th>\n",
              "      <th>trafficMedium</th>\n",
              "      <th>trafficCampaign</th>\n",
              "      <th>isFirstVisit</th>\n",
              "      <th>totalVisits</th>\n",
              "      <th>totalHits</th>\n",
              "      <th>totalPageviews</th>\n",
              "      <th>totalTimeOnSite</th>\n",
              "      <th>productPagesViewed</th>\n",
              "      <th>addedToCart</th>\n",
              "    </tr>\n",
              "  </thead>\n",
              "  <tbody>\n",
              "    <tr>\n",
              "      <th>0</th>\n",
              "      <td>4214259466202417480</td>\n",
              "      <td>1476492957</td>\n",
              "      <td>2016-10-14 00:00:00+00:00</td>\n",
              "      <td>desktop</td>\n",
              "      <td>False</td>\n",
              "      <td>Windows</td>\n",
              "      <td>Internet Explorer</td>\n",
              "      <td>United States</td>\n",
              "      <td>not available in demo dataset</td>\n",
              "      <td>ask</td>\n",
              "      <td>organic</td>\n",
              "      <td>(not set)</td>\n",
              "      <td>0</td>\n",
              "      <td>1.0</td>\n",
              "      <td>2.0</td>\n",
              "      <td>2.0</td>\n",
              "      <td>16.0</td>\n",
              "      <td>0.0</td>\n",
              "      <td>0.0</td>\n",
              "    </tr>\n",
              "    <tr>\n",
              "      <th>1</th>\n",
              "      <td>3541738396641160713</td>\n",
              "      <td>1493611205</td>\n",
              "      <td>2017-04-30 00:00:00+00:00</td>\n",
              "      <td>desktop</td>\n",
              "      <td>False</td>\n",
              "      <td>Windows</td>\n",
              "      <td>Chrome</td>\n",
              "      <td>United States</td>\n",
              "      <td>not available in demo dataset</td>\n",
              "      <td>ask</td>\n",
              "      <td>organic</td>\n",
              "      <td>(not set)</td>\n",
              "      <td>0</td>\n",
              "      <td>1.0</td>\n",
              "      <td>1.0</td>\n",
              "      <td>1.0</td>\n",
              "      <td>0.0</td>\n",
              "      <td>0.0</td>\n",
              "      <td>0.0</td>\n",
              "    </tr>\n",
              "    <tr>\n",
              "      <th>2</th>\n",
              "      <td>8276557623242379934</td>\n",
              "      <td>1490071147</td>\n",
              "      <td>2017-03-20 00:00:00+00:00</td>\n",
              "      <td>desktop</td>\n",
              "      <td>False</td>\n",
              "      <td>Windows</td>\n",
              "      <td>Chrome</td>\n",
              "      <td>Australia</td>\n",
              "      <td>Brisbane</td>\n",
              "      <td>ask</td>\n",
              "      <td>organic</td>\n",
              "      <td>(not set)</td>\n",
              "      <td>0</td>\n",
              "      <td>1.0</td>\n",
              "      <td>2.0</td>\n",
              "      <td>2.0</td>\n",
              "      <td>16.0</td>\n",
              "      <td>0.0</td>\n",
              "      <td>0.0</td>\n",
              "    </tr>\n",
              "    <tr>\n",
              "      <th>3</th>\n",
              "      <td>5855313117666192014</td>\n",
              "      <td>1491048053</td>\n",
              "      <td>2017-04-01 00:00:00+00:00</td>\n",
              "      <td>desktop</td>\n",
              "      <td>False</td>\n",
              "      <td>Windows</td>\n",
              "      <td>Chrome</td>\n",
              "      <td>Australia</td>\n",
              "      <td>Sydney</td>\n",
              "      <td>ask</td>\n",
              "      <td>organic</td>\n",
              "      <td>(not set)</td>\n",
              "      <td>0</td>\n",
              "      <td>1.0</td>\n",
              "      <td>1.0</td>\n",
              "      <td>1.0</td>\n",
              "      <td>0.0</td>\n",
              "      <td>0.0</td>\n",
              "      <td>0.0</td>\n",
              "    </tr>\n",
              "    <tr>\n",
              "      <th>4</th>\n",
              "      <td>2619633492044211273</td>\n",
              "      <td>1495292376</td>\n",
              "      <td>2017-05-20 00:00:00+00:00</td>\n",
              "      <td>desktop</td>\n",
              "      <td>False</td>\n",
              "      <td>Windows</td>\n",
              "      <td>Chrome</td>\n",
              "      <td>United States</td>\n",
              "      <td>not available in demo dataset</td>\n",
              "      <td>ask</td>\n",
              "      <td>organic</td>\n",
              "      <td>(not set)</td>\n",
              "      <td>0</td>\n",
              "      <td>1.0</td>\n",
              "      <td>15.0</td>\n",
              "      <td>12.0</td>\n",
              "      <td>326.0</td>\n",
              "      <td>1.0</td>\n",
              "      <td>1.0</td>\n",
              "    </tr>\n",
              "    <tr>\n",
              "      <th>...</th>\n",
              "      <td>...</td>\n",
              "      <td>...</td>\n",
              "      <td>...</td>\n",
              "      <td>...</td>\n",
              "      <td>...</td>\n",
              "      <td>...</td>\n",
              "      <td>...</td>\n",
              "      <td>...</td>\n",
              "      <td>...</td>\n",
              "      <td>...</td>\n",
              "      <td>...</td>\n",
              "      <td>...</td>\n",
              "      <td>...</td>\n",
              "      <td>...</td>\n",
              "      <td>...</td>\n",
              "      <td>...</td>\n",
              "      <td>...</td>\n",
              "      <td>...</td>\n",
              "      <td>...</td>\n",
              "    </tr>\n",
              "    <tr>\n",
              "      <th>748129</th>\n",
              "      <td>994272213284505294</td>\n",
              "      <td>1496116252</td>\n",
              "      <td>2017-05-29 00:00:00+00:00</td>\n",
              "      <td>desktop</td>\n",
              "      <td>False</td>\n",
              "      <td>Windows</td>\n",
              "      <td>Internet Explorer</td>\n",
              "      <td>Canada</td>\n",
              "      <td>not available in demo dataset</td>\n",
              "      <td>facebook.com</td>\n",
              "      <td>referral</td>\n",
              "      <td>(not set)</td>\n",
              "      <td>1</td>\n",
              "      <td>1.0</td>\n",
              "      <td>6.0</td>\n",
              "      <td>5.0</td>\n",
              "      <td>73.0</td>\n",
              "      <td>0.0</td>\n",
              "      <td>1.0</td>\n",
              "    </tr>\n",
              "    <tr>\n",
              "      <th>748130</th>\n",
              "      <td>6781509645375926637</td>\n",
              "      <td>1493932934</td>\n",
              "      <td>2017-05-04 00:00:00+00:00</td>\n",
              "      <td>desktop</td>\n",
              "      <td>False</td>\n",
              "      <td>Windows</td>\n",
              "      <td>Chrome</td>\n",
              "      <td>Czechia</td>\n",
              "      <td>not available in demo dataset</td>\n",
              "      <td>facebook.com</td>\n",
              "      <td>referral</td>\n",
              "      <td>(not set)</td>\n",
              "      <td>1</td>\n",
              "      <td>1.0</td>\n",
              "      <td>18.0</td>\n",
              "      <td>10.0</td>\n",
              "      <td>164.0</td>\n",
              "      <td>4.0</td>\n",
              "      <td>1.0</td>\n",
              "    </tr>\n",
              "    <tr>\n",
              "      <th>748131</th>\n",
              "      <td>5906103536244457070</td>\n",
              "      <td>1477200977</td>\n",
              "      <td>2016-10-22 00:00:00+00:00</td>\n",
              "      <td>desktop</td>\n",
              "      <td>False</td>\n",
              "      <td>Macintosh</td>\n",
              "      <td>Chrome</td>\n",
              "      <td>United States</td>\n",
              "      <td>San Francisco</td>\n",
              "      <td>facebook.com</td>\n",
              "      <td>referral</td>\n",
              "      <td>(not set)</td>\n",
              "      <td>1</td>\n",
              "      <td>1.0</td>\n",
              "      <td>1.0</td>\n",
              "      <td>1.0</td>\n",
              "      <td>0.0</td>\n",
              "      <td>0.0</td>\n",
              "      <td>0.0</td>\n",
              "    </tr>\n",
              "    <tr>\n",
              "      <th>748132</th>\n",
              "      <td>530046090129326137</td>\n",
              "      <td>1487539544</td>\n",
              "      <td>2017-02-19 00:00:00+00:00</td>\n",
              "      <td>desktop</td>\n",
              "      <td>False</td>\n",
              "      <td>Macintosh</td>\n",
              "      <td>Firefox</td>\n",
              "      <td>United States</td>\n",
              "      <td>Nashville</td>\n",
              "      <td>facebook.com</td>\n",
              "      <td>referral</td>\n",
              "      <td>(not set)</td>\n",
              "      <td>1</td>\n",
              "      <td>1.0</td>\n",
              "      <td>1.0</td>\n",
              "      <td>1.0</td>\n",
              "      <td>0.0</td>\n",
              "      <td>0.0</td>\n",
              "      <td>0.0</td>\n",
              "    </tr>\n",
              "    <tr>\n",
              "      <th>748133</th>\n",
              "      <td>6144620538699663193</td>\n",
              "      <td>1487546705</td>\n",
              "      <td>2017-02-19 00:00:00+00:00</td>\n",
              "      <td>desktop</td>\n",
              "      <td>False</td>\n",
              "      <td>Macintosh</td>\n",
              "      <td>Safari</td>\n",
              "      <td>United States</td>\n",
              "      <td>not available in demo dataset</td>\n",
              "      <td>facebook.com</td>\n",
              "      <td>referral</td>\n",
              "      <td>(not set)</td>\n",
              "      <td>1</td>\n",
              "      <td>NaN</td>\n",
              "      <td>NaN</td>\n",
              "      <td>NaN</td>\n",
              "      <td>NaN</td>\n",
              "      <td>NaN</td>\n",
              "      <td>NaN</td>\n",
              "    </tr>\n",
              "  </tbody>\n",
              "</table>\n",
              "<p>748134 rows × 19 columns</p>\n",
              "</div>"
            ],
            "text/plain": [
              "              fullVisitorId  visitStartTime  ... productPagesViewed addedToCart\n",
              "0       4214259466202417480      1476492957  ...                0.0         0.0\n",
              "1       3541738396641160713      1493611205  ...                0.0         0.0\n",
              "2       8276557623242379934      1490071147  ...                0.0         0.0\n",
              "3       5855313117666192014      1491048053  ...                0.0         0.0\n",
              "4       2619633492044211273      1495292376  ...                1.0         1.0\n",
              "...                     ...             ...  ...                ...         ...\n",
              "748129   994272213284505294      1496116252  ...                0.0         1.0\n",
              "748130  6781509645375926637      1493932934  ...                4.0         1.0\n",
              "748131  5906103536244457070      1477200977  ...                0.0         0.0\n",
              "748132   530046090129326137      1487539544  ...                0.0         0.0\n",
              "748133  6144620538699663193      1487546705  ...                NaN         NaN\n",
              "\n",
              "[748134 rows x 19 columns]"
            ]
          },
          "metadata": {},
          "execution_count": 237
        }
      ]
    },
    {
      "cell_type": "code",
      "metadata": {
        "id": "XU-GY2Ow-Wdy"
      },
      "source": [
        "test_id = data['fullVisitorId']"
      ],
      "execution_count": null,
      "outputs": []
    },
    {
      "cell_type": "code",
      "metadata": {
        "id": "zRhQKpb7povC"
      },
      "source": [
        "data= data.dropna() #결측치\n",
        "data = data.drop(labels ='fullVisitorId' ,axis = 1) #분석에 필요없는 특성\n",
        "data['visitStartTime'] = pd.to_datetime(data['visitStartTime'], unit='ns') #posix시간 변환\n",
        "data = data.drop(labels ='visitStartTime' ,axis = 1) #큰 의미가 없어서 drop\n",
        "data = data.drop(labels =['date','country','city'] ,axis = 1) #cardinality 높아서 drop"
      ],
      "execution_count": null,
      "outputs": []
    },
    {
      "cell_type": "code",
      "metadata": {
        "id": "zc3e5YgxSbzr",
        "colab": {
          "base_uri": "https://localhost:8080/"
        },
        "outputId": "318cb02e-0adb-4bd6-c0b5-1600a5c7d319"
      },
      "source": [
        "data.isnull().sum()"
      ],
      "execution_count": null,
      "outputs": [
        {
          "output_type": "execute_result",
          "data": {
            "text/plain": [
              "deviceCategory        0\n",
              "isMobile              0\n",
              "operatingSystem       0\n",
              "browser               0\n",
              "trafficSource         0\n",
              "trafficMedium         0\n",
              "trafficCampaign       0\n",
              "isFirstVisit          0\n",
              "totalVisits           0\n",
              "totalHits             0\n",
              "totalPageviews        0\n",
              "totalTimeOnSite       0\n",
              "productPagesViewed    0\n",
              "addedToCart           0\n",
              "dtype: int64"
            ]
          },
          "metadata": {},
          "execution_count": 240
        }
      ]
    },
    {
      "cell_type": "code",
      "metadata": {
        "id": "qSjJLpQUrwlI",
        "colab": {
          "base_uri": "https://localhost:8080/"
        },
        "outputId": "cea31567-7cef-4bf3-9b15-8a030ae048c1"
      },
      "source": [
        "data['addedToCart'].value_counts(normalize=True).round(3)\n",
        "#기준모델 5퍼센트"
      ],
      "execution_count": null,
      "outputs": [
        {
          "output_type": "execute_result",
          "data": {
            "text/plain": [
              "0.0    0.945\n",
              "1.0    0.055\n",
              "Name: addedToCart, dtype: float64"
            ]
          },
          "metadata": {},
          "execution_count": 241
        }
      ]
    },
    {
      "cell_type": "code",
      "metadata": {
        "id": "oUUVZS3LR0H5"
      },
      "source": [
        "def engineer(df):\n",
        "    \"\"\"특성을 엔지니어링 하는 함수입니다.\"\"\"\n",
        "\n",
        "    #mapping\n",
        "    deviceCategory_dict = {\"mobile\":1, \"tablet\":2, \"desktop\":3}\n",
        "    \n",
        "    isMobile_dict = {True:1, False:0}\n",
        "    \n",
        "    operatingSystem_dict = {'Macintosh': 19, 'Windows': 18, 'Android': 17, 'iOS': 16, 'Chrome OS': 15, 'Linux':14,\n",
        "       'Nintendo Wii':0, 'Xbox':0, 'Windows Phone':0, 'BlackBerry':0, '(not set)':0,\n",
        "       'Samsung':0, 'Firefox OS':0, 'OpenBSD':0, 'Nintendo WiiU':0, 'FreeBSD':0,\n",
        "       'SunOS':0, 'Nokia':0, 'Nintendo 3DS':0}\n",
        "    \n",
        "    browser_dict = {'Chrome':3, 'Safari':2, 'Firefox':1,'Internet Explorer':0, \n",
        "       'Nintendo Browser':0, 'Safari (in-app)':0, 'Edge':0, 'Android Webview':0,\n",
        "       'Amazon Silk':0, 'Opera':0, 'UC Browser':0, 'Android Browser':0,\n",
        "       'BlackBerry':0, 'Coc Coc':0, 'Opera Mini':0, 'Maxthon':0, 'YaBrowser':0,\n",
        "       'Mozilla Compatible Agent':0, 'Seznam':0, 'no-ua':0, 'LYF_LS_4002_12':0,\n",
        "       'Nokia Browser':0, 'Puffin':0, 'DASH_JR_3G':0, 'Mozilla':0, 'MRCHROME':0,\n",
        "       'M5':0, 'TCL P500M':0, 'Iron':0, 'SeaMonkey':0, 'Lunascape':0, 'YE':0,\n",
        "       'osee2unifiedRelease':0, '(not set)':0, 'ThumbSniper':0,\n",
        "       'Apple-iPhone7C2':0, 'NokiaE52-1':0, 'ADM':0, 'Reddit':0,\n",
        "       'subjectAgent: NoticiasBoom':0, 'Android Runtime':0, 'HTC802t_TD':0,\n",
        "       'MQQBrowser':0, 'Hisense M20-M_LTE':0, 'Nichrome':0, 'Konqueror':0,\n",
        "       'User Agent':0, 'LYF_LS_4002_11':0, 'CSM Click':0}\n",
        "    \n",
        "    trafficMedium_dict = {'(none)':7,'organic':6,'referral':5,'cpc':4,'affiliate':3,'cpm':2,'(not set)':1,}\n",
        "    \n",
        "    trafficCampaign_dict = {'(not set)':1, 'AW - Dynamic Search Ads Whole Site':0,\n",
        "       'AW - Accessories':0, 'AW - Electronics':0, 'All Products':0,\n",
        "       'AW - Apparel':0, 'Data Share Promo':0, 'Data Share':0}\n",
        "    \n",
        "\n",
        "    #applying\n",
        "    df[\"deviceCategory\"] = df.deviceCategory.map(deviceCategory_dict) \n",
        "    df[\"isMobile\"] = df.isMobile.map(isMobile_dict)\n",
        "    df[\"operatingSystem\"] = df.operatingSystem.map(operatingSystem_dict) \n",
        "    df[\"browser\"] = df.browser.map(browser_dict) \n",
        "    df[\"trafficMedium\"] = df.trafficMedium.map(trafficMedium_dict)\n",
        "    df[\"trafficCampaign\"] = df.trafficCampaign.map(trafficCampaign_dict)\n",
        "    \n",
        "    #df[\"isMobile\"] = list(df[\"isMobile\"])\n",
        "    #list(map(int, a))\n",
        "\n",
        "    return df\n",
        "\n",
        "\n",
        "data = engineer(data)"
      ],
      "execution_count": null,
      "outputs": []
    },
    {
      "cell_type": "code",
      "metadata": {
        "id": "2HMjH2PJSUIi",
        "colab": {
          "base_uri": "https://localhost:8080/",
          "height": 439
        },
        "outputId": "4447d368-68d9-4036-c994-52d49ce061bd"
      },
      "source": [
        "data"
      ],
      "execution_count": null,
      "outputs": [
        {
          "output_type": "execute_result",
          "data": {
            "text/html": [
              "<div>\n",
              "<style scoped>\n",
              "    .dataframe tbody tr th:only-of-type {\n",
              "        vertical-align: middle;\n",
              "    }\n",
              "\n",
              "    .dataframe tbody tr th {\n",
              "        vertical-align: top;\n",
              "    }\n",
              "\n",
              "    .dataframe thead th {\n",
              "        text-align: right;\n",
              "    }\n",
              "</style>\n",
              "<table border=\"1\" class=\"dataframe\">\n",
              "  <thead>\n",
              "    <tr style=\"text-align: right;\">\n",
              "      <th></th>\n",
              "      <th>deviceCategory</th>\n",
              "      <th>isMobile</th>\n",
              "      <th>operatingSystem</th>\n",
              "      <th>browser</th>\n",
              "      <th>trafficSource</th>\n",
              "      <th>trafficMedium</th>\n",
              "      <th>trafficCampaign</th>\n",
              "      <th>isFirstVisit</th>\n",
              "      <th>totalVisits</th>\n",
              "      <th>totalHits</th>\n",
              "      <th>totalPageviews</th>\n",
              "      <th>totalTimeOnSite</th>\n",
              "      <th>productPagesViewed</th>\n",
              "      <th>addedToCart</th>\n",
              "    </tr>\n",
              "  </thead>\n",
              "  <tbody>\n",
              "    <tr>\n",
              "      <th>0</th>\n",
              "      <td>3</td>\n",
              "      <td>0</td>\n",
              "      <td>18</td>\n",
              "      <td>0</td>\n",
              "      <td>ask</td>\n",
              "      <td>6</td>\n",
              "      <td>1</td>\n",
              "      <td>0</td>\n",
              "      <td>1.0</td>\n",
              "      <td>2.0</td>\n",
              "      <td>2.0</td>\n",
              "      <td>16.0</td>\n",
              "      <td>0.0</td>\n",
              "      <td>0.0</td>\n",
              "    </tr>\n",
              "    <tr>\n",
              "      <th>1</th>\n",
              "      <td>3</td>\n",
              "      <td>0</td>\n",
              "      <td>18</td>\n",
              "      <td>3</td>\n",
              "      <td>ask</td>\n",
              "      <td>6</td>\n",
              "      <td>1</td>\n",
              "      <td>0</td>\n",
              "      <td>1.0</td>\n",
              "      <td>1.0</td>\n",
              "      <td>1.0</td>\n",
              "      <td>0.0</td>\n",
              "      <td>0.0</td>\n",
              "      <td>0.0</td>\n",
              "    </tr>\n",
              "    <tr>\n",
              "      <th>2</th>\n",
              "      <td>3</td>\n",
              "      <td>0</td>\n",
              "      <td>18</td>\n",
              "      <td>3</td>\n",
              "      <td>ask</td>\n",
              "      <td>6</td>\n",
              "      <td>1</td>\n",
              "      <td>0</td>\n",
              "      <td>1.0</td>\n",
              "      <td>2.0</td>\n",
              "      <td>2.0</td>\n",
              "      <td>16.0</td>\n",
              "      <td>0.0</td>\n",
              "      <td>0.0</td>\n",
              "    </tr>\n",
              "    <tr>\n",
              "      <th>3</th>\n",
              "      <td>3</td>\n",
              "      <td>0</td>\n",
              "      <td>18</td>\n",
              "      <td>3</td>\n",
              "      <td>ask</td>\n",
              "      <td>6</td>\n",
              "      <td>1</td>\n",
              "      <td>0</td>\n",
              "      <td>1.0</td>\n",
              "      <td>1.0</td>\n",
              "      <td>1.0</td>\n",
              "      <td>0.0</td>\n",
              "      <td>0.0</td>\n",
              "      <td>0.0</td>\n",
              "    </tr>\n",
              "    <tr>\n",
              "      <th>4</th>\n",
              "      <td>3</td>\n",
              "      <td>0</td>\n",
              "      <td>18</td>\n",
              "      <td>3</td>\n",
              "      <td>ask</td>\n",
              "      <td>6</td>\n",
              "      <td>1</td>\n",
              "      <td>0</td>\n",
              "      <td>1.0</td>\n",
              "      <td>15.0</td>\n",
              "      <td>12.0</td>\n",
              "      <td>326.0</td>\n",
              "      <td>1.0</td>\n",
              "      <td>1.0</td>\n",
              "    </tr>\n",
              "    <tr>\n",
              "      <th>...</th>\n",
              "      <td>...</td>\n",
              "      <td>...</td>\n",
              "      <td>...</td>\n",
              "      <td>...</td>\n",
              "      <td>...</td>\n",
              "      <td>...</td>\n",
              "      <td>...</td>\n",
              "      <td>...</td>\n",
              "      <td>...</td>\n",
              "      <td>...</td>\n",
              "      <td>...</td>\n",
              "      <td>...</td>\n",
              "      <td>...</td>\n",
              "      <td>...</td>\n",
              "    </tr>\n",
              "    <tr>\n",
              "      <th>748128</th>\n",
              "      <td>3</td>\n",
              "      <td>0</td>\n",
              "      <td>18</td>\n",
              "      <td>3</td>\n",
              "      <td>facebook.com</td>\n",
              "      <td>5</td>\n",
              "      <td>1</td>\n",
              "      <td>1</td>\n",
              "      <td>1.0</td>\n",
              "      <td>6.0</td>\n",
              "      <td>6.0</td>\n",
              "      <td>122.0</td>\n",
              "      <td>0.0</td>\n",
              "      <td>0.0</td>\n",
              "    </tr>\n",
              "    <tr>\n",
              "      <th>748129</th>\n",
              "      <td>3</td>\n",
              "      <td>0</td>\n",
              "      <td>18</td>\n",
              "      <td>0</td>\n",
              "      <td>facebook.com</td>\n",
              "      <td>5</td>\n",
              "      <td>1</td>\n",
              "      <td>1</td>\n",
              "      <td>1.0</td>\n",
              "      <td>6.0</td>\n",
              "      <td>5.0</td>\n",
              "      <td>73.0</td>\n",
              "      <td>0.0</td>\n",
              "      <td>1.0</td>\n",
              "    </tr>\n",
              "    <tr>\n",
              "      <th>748130</th>\n",
              "      <td>3</td>\n",
              "      <td>0</td>\n",
              "      <td>18</td>\n",
              "      <td>3</td>\n",
              "      <td>facebook.com</td>\n",
              "      <td>5</td>\n",
              "      <td>1</td>\n",
              "      <td>1</td>\n",
              "      <td>1.0</td>\n",
              "      <td>18.0</td>\n",
              "      <td>10.0</td>\n",
              "      <td>164.0</td>\n",
              "      <td>4.0</td>\n",
              "      <td>1.0</td>\n",
              "    </tr>\n",
              "    <tr>\n",
              "      <th>748131</th>\n",
              "      <td>3</td>\n",
              "      <td>0</td>\n",
              "      <td>19</td>\n",
              "      <td>3</td>\n",
              "      <td>facebook.com</td>\n",
              "      <td>5</td>\n",
              "      <td>1</td>\n",
              "      <td>1</td>\n",
              "      <td>1.0</td>\n",
              "      <td>1.0</td>\n",
              "      <td>1.0</td>\n",
              "      <td>0.0</td>\n",
              "      <td>0.0</td>\n",
              "      <td>0.0</td>\n",
              "    </tr>\n",
              "    <tr>\n",
              "      <th>748132</th>\n",
              "      <td>3</td>\n",
              "      <td>0</td>\n",
              "      <td>19</td>\n",
              "      <td>1</td>\n",
              "      <td>facebook.com</td>\n",
              "      <td>5</td>\n",
              "      <td>1</td>\n",
              "      <td>1</td>\n",
              "      <td>1.0</td>\n",
              "      <td>1.0</td>\n",
              "      <td>1.0</td>\n",
              "      <td>0.0</td>\n",
              "      <td>0.0</td>\n",
              "      <td>0.0</td>\n",
              "    </tr>\n",
              "  </tbody>\n",
              "</table>\n",
              "<p>748133 rows × 14 columns</p>\n",
              "</div>"
            ],
            "text/plain": [
              "        deviceCategory  isMobile  ...  productPagesViewed  addedToCart\n",
              "0                    3         0  ...                 0.0          0.0\n",
              "1                    3         0  ...                 0.0          0.0\n",
              "2                    3         0  ...                 0.0          0.0\n",
              "3                    3         0  ...                 0.0          0.0\n",
              "4                    3         0  ...                 1.0          1.0\n",
              "...                ...       ...  ...                 ...          ...\n",
              "748128               3         0  ...                 0.0          0.0\n",
              "748129               3         0  ...                 0.0          1.0\n",
              "748130               3         0  ...                 4.0          1.0\n",
              "748131               3         0  ...                 0.0          0.0\n",
              "748132               3         0  ...                 0.0          0.0\n",
              "\n",
              "[748133 rows x 14 columns]"
            ]
          },
          "metadata": {},
          "execution_count": 243
        }
      ]
    },
    {
      "cell_type": "code",
      "metadata": {
        "id": "35_Y1sMqsHwB",
        "colab": {
          "base_uri": "https://localhost:8080/"
        },
        "outputId": "70bad4c1-49d4-48fc-dfbf-c903c89b47dc"
      },
      "source": [
        "!pip install category_encoders"
      ],
      "execution_count": null,
      "outputs": [
        {
          "output_type": "stream",
          "name": "stdout",
          "text": [
            "Requirement already satisfied: category_encoders in /usr/local/lib/python3.7/dist-packages (2.2.2)\n",
            "Requirement already satisfied: scikit-learn>=0.20.0 in /usr/local/lib/python3.7/dist-packages (from category_encoders) (0.22.2.post1)\n",
            "Requirement already satisfied: statsmodels>=0.9.0 in /usr/local/lib/python3.7/dist-packages (from category_encoders) (0.10.2)\n",
            "Requirement already satisfied: patsy>=0.5.1 in /usr/local/lib/python3.7/dist-packages (from category_encoders) (0.5.1)\n",
            "Requirement already satisfied: numpy>=1.14.0 in /usr/local/lib/python3.7/dist-packages (from category_encoders) (1.19.5)\n",
            "Requirement already satisfied: scipy>=1.0.0 in /usr/local/lib/python3.7/dist-packages (from category_encoders) (1.4.1)\n",
            "Requirement already satisfied: pandas>=0.21.1 in /usr/local/lib/python3.7/dist-packages (from category_encoders) (1.1.5)\n",
            "Requirement already satisfied: pytz>=2017.2 in /usr/local/lib/python3.7/dist-packages (from pandas>=0.21.1->category_encoders) (2018.9)\n",
            "Requirement already satisfied: python-dateutil>=2.7.3 in /usr/local/lib/python3.7/dist-packages (from pandas>=0.21.1->category_encoders) (2.8.2)\n",
            "Requirement already satisfied: six in /usr/local/lib/python3.7/dist-packages (from patsy>=0.5.1->category_encoders) (1.15.0)\n",
            "Requirement already satisfied: joblib>=0.11 in /usr/local/lib/python3.7/dist-packages (from scikit-learn>=0.20.0->category_encoders) (1.0.1)\n"
          ]
        }
      ]
    },
    {
      "cell_type": "code",
      "metadata": {
        "id": "BC4wIx62SUMB"
      },
      "source": [
        "from sklearn.preprocessing import StandardScaler\n",
        "from sklearn.impute import SimpleImputer\n",
        "from sklearn.model_selection import train_test_split\n",
        "from sklearn.model_selection import cross_val_score\n",
        "from sklearn.model_selection import GridSearchCV\n",
        "from category_encoders import OneHotEncoder\n",
        "from category_encoders import OrdinalEncoder\n",
        "from category_encoders import TargetEncoder\n",
        "from sklearn.pipeline import make_pipeline\n",
        "from sklearn.ensemble import RandomForestClassifier\n",
        "from sklearn.linear_model import LogisticRegression\n",
        "from sklearn.tree import DecisionTreeClassifier\n",
        "from sklearn.metrics import accuracy_score\n",
        "from sklearn.metrics import f1_score\n",
        "from sklearn.metrics import classification_report"
      ],
      "execution_count": null,
      "outputs": []
    },
    {
      "cell_type": "code",
      "metadata": {
        "id": "0wDuB6s1SURp",
        "colab": {
          "base_uri": "https://localhost:8080/"
        },
        "outputId": "02cddc5f-b4e8-4941-be22-a8b64cdd62a4"
      },
      "source": [
        "target = 'addedToCart'\n",
        "#전체 data에서 data,test로 나누기\n",
        "data, test = train_test_split(data, train_size=0.8, test_size=0.2, \n",
        "                              stratify=data[target], random_state=1234)\n",
        "\n",
        "#train 에서 train,val로 나누기\n",
        "train, val = train_test_split(data, train_size=0.8, test_size=0.2, \n",
        "                              stratify=data[target], random_state=1234)\n",
        "\n",
        "#trian,val,test확인\n",
        "print(train.shape, val.shape, test.shape)\n",
        "print(train.shape[0]+val.shape[0]+test.shape[0])"
      ],
      "execution_count": null,
      "outputs": [
        {
          "output_type": "stream",
          "name": "stdout",
          "text": [
            "(478804, 14) (119702, 14) (149627, 14)\n",
            "748133\n"
          ]
        }
      ]
    },
    {
      "cell_type": "code",
      "metadata": {
        "id": "H9lSnqJHSUUh"
      },
      "source": [
        "#X,y로 나누기\n",
        "train_target = train[target]\n",
        "train_features = train.drop(target, axis=1)\n",
        "test_target = test[target]\n",
        "test_features = test.drop(target, axis=1)\n",
        "\n",
        "X_train, X_val, y_train, y_val = train_test_split(train_features, train_target, test_size=0.2, random_state = 1234)\n",
        "\n",
        "X_test = test_features\n",
        "y_test = test_target"
      ],
      "execution_count": null,
      "outputs": []
    },
    {
      "cell_type": "code",
      "metadata": {
        "id": "v1FKv3sBSUXZ",
        "colab": {
          "base_uri": "https://localhost:8080/",
          "height": 279
        },
        "outputId": "f1cf0512-6eea-4e78-be8e-4b087f2dbe41"
      },
      "source": [
        "#data imbalance 가 심함, 임계값 조정이 필요함\n",
        "import seaborn as sns\n",
        "import matplotlib.pyplot as plt\n",
        "%matplotlib inline\n",
        "sns.countplot(x=y_train);"
      ],
      "execution_count": null,
      "outputs": [
        {
          "output_type": "display_data",
          "data": {
            "image/png": "[encoded data removed]",
            "text/plain": [
              "<Figure size 432x288 with 1 Axes>"
            ]
          },
          "metadata": {
            "needs_background": "light"
          }
        }
      ]
    },
    {
      "cell_type": "code",
      "metadata": {
        "id": "7YqezZ2nSUah",
        "colab": {
          "base_uri": "https://localhost:8080/"
        },
        "outputId": "10b08096-5890-41f3-a089-007684e2e6e6"
      },
      "source": [
        "pipe = make_pipeline(\n",
        "    # TargetEncoder: 범주형 변수 인코더로, 타겟값을 특성의 범주별로 평균내어 그 값으로 인코딩\n",
        "    TargetEncoder(min_samples_leaf=1, smoothing=1), \n",
        "    SimpleImputer(strategy='median'), \n",
        "    RandomForestClassifier(n_estimators=100, max_depth = 10, n_jobs=-1, random_state=1234)\n",
        ")\n",
        "\n",
        "pipe.fit(X_train, y_train)\n",
        "print('검증 정확도: ', pipe.score(X_val, y_val))"
      ],
      "execution_count": null,
      "outputs": [
        {
          "output_type": "stream",
          "name": "stderr",
          "text": [
            "/usr/local/lib/python3.7/dist-packages/category_encoders/utils.py:21: FutureWarning: is_categorical is deprecated and will be removed in a future version.  Use is_categorical_dtype instead\n",
            "  elif pd.api.types.is_categorical(cols):\n"
          ]
        },
        {
          "output_type": "stream",
          "name": "stdout",
          "text": [
            "검증 정확도:  0.9586783763745157\n"
          ]
        }
      ]
    },
    {
      "cell_type": "code",
      "metadata": {
        "id": "W1rJnZzs9ObC",
        "colab": {
          "base_uri": "https://localhost:8080/"
        },
        "outputId": "f5cef0ae-3ec8-4488-a066-6c6e09a34dbb"
      },
      "source": [
        "pipe2 = make_pipeline(\n",
        "    # TargetEncoder: 범주형 변수 인코더로, 타겟값을 특성의 범주별로 평균내어 그 값으로 인코딩\n",
        "    TargetEncoder(min_samples_leaf=1, smoothing=1), \n",
        "    SimpleImputer(strategy='median'), \n",
        "    LogisticRegression(n_jobs=-1, random_state=1234)\n",
        ")\n",
        "\n",
        "pipe2.fit(X_train, y_train)\n",
        "print('검증 정확도: ', pipe2.score(X_val, y_val))"
      ],
      "execution_count": null,
      "outputs": [
        {
          "output_type": "stream",
          "name": "stderr",
          "text": [
            "/usr/local/lib/python3.7/dist-packages/category_encoders/utils.py:21: FutureWarning: is_categorical is deprecated and will be removed in a future version.  Use is_categorical_dtype instead\n",
            "  elif pd.api.types.is_categorical(cols):\n"
          ]
        },
        {
          "output_type": "stream",
          "name": "stdout",
          "text": [
            "검증 정확도:  0.9576758805776882\n"
          ]
        }
      ]
    },
    {
      "cell_type": "code",
      "metadata": {
        "id": "v77--TIAOQlt",
        "colab": {
          "base_uri": "https://localhost:8080/"
        },
        "outputId": "00e7c8cf-1760-41eb-dd14-d283a3d0d94a"
      },
      "source": [
        "#pipe.score과 pipe.predict 차이 확인 위한 코드\n",
        "y_pred = pipe.predict(X_val)\n",
        "print('검증 정확도: ', accuracy_score(y_val, y_pred))"
      ],
      "execution_count": null,
      "outputs": [
        {
          "output_type": "stream",
          "name": "stdout",
          "text": [
            "검증 정확도:  0.9586783763745157\n"
          ]
        }
      ]
    },
    {
      "cell_type": "code",
      "metadata": {
        "id": "DqxkviCbSUjp",
        "colab": {
          "base_uri": "https://localhost:8080/",
          "height": 200
        },
        "outputId": "a92799dd-c6d7-49b1-b9fe-207c1ffa5a77"
      },
      "source": [
        "# 특성 중요도(target)\n",
        "rf_tar = pipe.named_steps['randomforestclassifier']\n",
        "importances_tar = pd.Series(rf_tar.feature_importances_, X_train.columns)\n",
        "\n",
        "n = 10\n",
        "plt.figure(figsize=(10,n/4))\n",
        "plt.title(f'Top {n} features with TargetEncoder')\n",
        "importances_tar.sort_values()[-n:].plot.barh();"
      ],
      "execution_count": null,
      "outputs": [
        {
          "output_type": "display_data",
          "data": {
            "image/png": "[encoded data removed]",
            "text/plain": [
              "<Figure size 720x180 with 1 Axes>"
            ]
          },
          "metadata": {
            "needs_background": "light"
          }
        }
      ]
    },
    {
      "cell_type": "code",
      "metadata": {
        "id": "BLVy0m6DSUmx",
        "colab": {
          "base_uri": "https://localhost:8080/",
          "height": 282
        },
        "outputId": "808b95ff-097c-4241-d710-f323341e3ca6"
      },
      "source": [
        "from sklearn.metrics import confusion_matrix\n",
        "import matplotlib.pyplot as plt\n",
        "import seaborn as sns\n",
        "import numpy as np\n",
        "\n",
        "#히트맵 퍼센트\n",
        "cf_matrix = confusion_matrix(y_val, y_pred)\n",
        "sns.heatmap(cf_matrix/np.sum(cf_matrix), annot=True, \n",
        "            fmt='.2%', cmap='Blues')"
      ],
      "execution_count": null,
      "outputs": [
        {
          "output_type": "execute_result",
          "data": {
            "text/plain": [
              "<matplotlib.axes._subplots.AxesSubplot at 0x7f7d99a2e990>"
            ]
          },
          "metadata": {},
          "execution_count": 186
        },
        {
          "output_type": "display_data",
          "data": {
            "image/png": "[encoded data removed]",
            "text/plain": [
              "<Figure size 432x288 with 2 Axes>"
            ]
          },
          "metadata": {
            "needs_background": "light"
          }
        }
      ]
    },
    {
      "cell_type": "code",
      "metadata": {
        "id": "8Ll7ieWfSUp5",
        "colab": {
          "base_uri": "https://localhost:8080/",
          "height": 319
        },
        "outputId": "c32b69c3-03a1-4d24-9ba6-c72817c76270"
      },
      "source": [
        "\n",
        "group_names = ['True Neg','False Pos','False Neg','True Pos']\n",
        "\n",
        "group_counts = ['{0:0.0f}'.format(value) for value in\n",
        "                cf_matrix.flatten()]\n",
        "\n",
        "group_percentages = ['{0:.2%}'.format(value) for value in\n",
        "                     cf_matrix.flatten()/np.sum(cf_matrix)]\n",
        "\n",
        "labels = [f'{v1}\\n{v2}\\n{v3}' for v1, v2, v3 in\n",
        "          zip(group_names,group_counts,group_percentages)]\n",
        "\n",
        "labels = np.asarray(labels).reshape(2,2)\n",
        "\n",
        "sns.heatmap(cf_matrix, annot=labels, fmt='', cmap='Blues')\n",
        "plt.title(f'Confusion matrix, n = {len(y_val)}', fontsize=15);\n",
        "plt.xlabel('Predicted Label',fontsize=15)\n",
        "plt.ylabel('Actual Label',fontsize=15)"
      ],
      "execution_count": null,
      "outputs": [
        {
          "output_type": "execute_result",
          "data": {
            "text/plain": [
              "Text(33.0, 0.5, 'Actual Label')"
            ]
          },
          "metadata": {},
          "execution_count": 187
        },
        {
          "output_type": "display_data",
          "data": {
            "image/png": "[encoded data removed]",
            "text/plain": [
              "<Figure size 432x288 with 2 Axes>"
            ]
          },
          "metadata": {
            "needs_background": "light"
          }
        }
      ]
    },
    {
      "cell_type": "code",
      "metadata": {
        "id": "1hDtK49eSUsx",
        "colab": {
          "base_uri": "https://localhost:8080/"
        },
        "outputId": "48c6aaa0-3368-4a58-bfaf-22bd7fd51f95"
      },
      "source": [
        "print(classification_report(y_val, y_pred)) \n",
        "#1에 대한 recall을 높여야 한다"
      ],
      "execution_count": null,
      "outputs": [
        {
          "output_type": "stream",
          "name": "stdout",
          "text": [
            "              precision    recall  f1-score   support\n",
            "\n",
            "         0.0       0.97      0.99      0.98     90447\n",
            "         1.0       0.71      0.44      0.54      5314\n",
            "\n",
            "    accuracy                           0.96     95761\n",
            "   macro avg       0.84      0.71      0.76     95761\n",
            "weighted avg       0.95      0.96      0.95     95761\n",
            "\n"
          ]
        }
      ]
    },
    {
      "cell_type": "code",
      "metadata": {
        "id": "kSJYwxc5SUwD",
        "colab": {
          "base_uri": "https://localhost:8080/"
        },
        "outputId": "ea1adef5-e911-43cf-bdd4-62c25a63bcfd"
      },
      "source": [
        "pipe.predict_proba(X_val)"
      ],
      "execution_count": null,
      "outputs": [
        {
          "output_type": "execute_result",
          "data": {
            "text/plain": [
              "array([[9.96983671e-01, 3.01632921e-03],\n",
              "       [9.99855566e-01, 1.44434062e-04],\n",
              "       [9.99901369e-01, 9.86306888e-05],\n",
              "       ...,\n",
              "       [9.89047480e-01, 1.09525200e-02],\n",
              "       [9.95727882e-01, 4.27211787e-03],\n",
              "       [9.99729032e-01, 2.70967961e-04]])"
            ]
          },
          "metadata": {},
          "execution_count": 189
        }
      ]
    },
    {
      "cell_type": "code",
      "metadata": {
        "id": "9dJDZVuuSUzB",
        "colab": {
          "base_uri": "https://localhost:8080/"
        },
        "outputId": "7327033b-aaa2-4990-e0c0-1098dc40a7ca"
      },
      "source": [
        "y_pred_proba = pipe.predict_proba(X_val)[:, 1]\n",
        "y_pred_proba"
      ],
      "execution_count": null,
      "outputs": [
        {
          "output_type": "execute_result",
          "data": {
            "text/plain": [
              "array([3.01632921e-03, 1.44434062e-04, 9.86306888e-05, ...,\n",
              "       1.09525200e-02, 4.27211787e-03, 2.70967961e-04])"
            ]
          },
          "metadata": {},
          "execution_count": 190
        }
      ]
    },
    {
      "cell_type": "code",
      "metadata": {
        "id": "lP3gUSpU-B7_",
        "colab": {
          "base_uri": "https://localhost:8080/"
        },
        "outputId": "e95c9d7a-3d92-4069-ee71-99ecdb70453f"
      },
      "source": [
        "y_pred_proba1 = pipe.predict_proba(X_train)[:, 1]\n",
        "y_pred_proba1"
      ],
      "execution_count": null,
      "outputs": [
        {
          "output_type": "execute_result",
          "data": {
            "text/plain": [
              "array([6.45806646e-01, 1.29429580e-04, 4.83875581e-05, ...,\n",
              "       1.01067744e-04, 6.91790390e-04, 1.19504041e-04])"
            ]
          },
          "metadata": {},
          "execution_count": 191
        }
      ]
    },
    {
      "cell_type": "code",
      "metadata": {
        "id": "ZpQ-iZ1ASU15",
        "colab": {
          "base_uri": "https://localhost:8080/",
          "height": 466,
          "referenced_widgets": [
            "fa4d6dc2ab074926935e8ac21d3ed181",
            "f3b143644b5c4b7396f1afc365e22822",
            "1650b333ffd54ae092fbb42317288369",
            "4f924d189e924def9baf303c58671bd7",
            "321af68d61ee42a2b493859b563ea2fa",
            "e6bf6ab10a194e319c3612e84b22143e",
            "06c36ee8ce5a46d499a878fc073fe57f"
          ]
        },
        "outputId": "23600b57-f3a0-4c76-f1ee-caaacbf62e5e"
      },
      "source": [
        "from ipywidgets import interact, fixed\n",
        "\n",
        "threshold = 0.5 #(0.5인 이유 = 해석을 아예 못한 경우 0.5)\n",
        "\n",
        "def explore_threshold(y_true, y_pred_proba, threshold=0.5):\n",
        "    y_pred = y_pred_proba >= threshold\n",
        "    vc = pd.Series(y_pred).value_counts()\n",
        "    ax = sns.histplot(y_pred_proba, kde=True)\n",
        "    ax.axvline(threshold, color='red')\n",
        "    ax.set_title(f'# of target, 1={vc[1]}, 0={vc[0]}')\n",
        "    plt.show()\n",
        "    print(classification_report(y_true, y_pred))\n",
        "\n",
        "    \n",
        "interact(explore_threshold, \n",
        "    y_true=fixed(y_val), \n",
        "    y_pred_proba=fixed(y_pred_proba), \n",
        "    threshold=(0, 1, 0.01));"
      ],
      "execution_count": null,
      "outputs": [
        {
          "output_type": "display_data",
          "data": {
            "application/vnd.jupyter.widget-view+json": {
              "model_id": "fa4d6dc2ab074926935e8ac21d3ed181",
              "version_minor": 0,
              "version_major": 2
            },
            "text/plain": [
              "interactive(children=(FloatSlider(value=0.5, description='threshold', max=1.0, step=0.01), Output()), _dom_cla…"
            ]
          },
          "metadata": {}
        }
      ]
    },
    {
      "cell_type": "code",
      "metadata": {
        "colab": {
          "base_uri": "https://localhost:8080/"
        },
        "id": "Dam_iiAPISmD",
        "outputId": "2e2c5461-4aae-4c8e-e507-60938e0dc1d8"
      },
      "source": [
        "threshold = 0.18\n",
        "\n",
        "enc = TargetEncoder(min_samples_leaf=1, smoothing=1)\n",
        "imp_mean = SimpleImputer(strategy='median')\n",
        "model = RandomForestClassifier(n_estimators=100, max_depth = 10, n_jobs=-1, random_state=1234)\n",
        "\n",
        "X_train_encoded = enc.fit_transform(X_train, y_train)\n",
        "X_train_imputed = imp_mean.fit_transform(X_train_encoded)\n",
        "model.fit(X_train_imputed, y_train)\n",
        "\n",
        "X_val_encoded = enc.transform(X_val)\n",
        "X_val_imputed = imp_mean.transform(X_val_encoded)\n",
        "\n",
        "X_test_encoded = enc.transform(X_test)\n",
        "X_test_imputed = imp_mean.transform(X_test_encoded)\n",
        "\n",
        "\n",
        "#y_pred = model_lr.predict(X_test_scaled)\n",
        "\n",
        "\n",
        "y_pred = (model.predict_proba(X_val_imputed)[:, 1] > threshold).astype('float')\n",
        "cf_matrix1 = confusion_matrix(y_val, y_pred)\n",
        "cf_matrix1"
      ],
      "execution_count": null,
      "outputs": [
        {
          "output_type": "stream",
          "name": "stderr",
          "text": [
            "/usr/local/lib/python3.7/dist-packages/category_encoders/utils.py:21: FutureWarning: is_categorical is deprecated and will be removed in a future version.  Use is_categorical_dtype instead\n",
            "  elif pd.api.types.is_categorical(cols):\n"
          ]
        },
        {
          "output_type": "execute_result",
          "data": {
            "text/plain": [
              "array([[84526,  5921],\n",
              "       [  498,  4816]])"
            ]
          },
          "metadata": {},
          "execution_count": 193
        }
      ]
    },
    {
      "cell_type": "code",
      "metadata": {
        "colab": {
          "base_uri": "https://localhost:8080/",
          "height": 319
        },
        "id": "eBhS2yxHOWIH",
        "outputId": "a8d2404a-6292-46f1-b0d0-f131c3c638b8"
      },
      "source": [
        "group_names = ['True Neg','False Pos','False Neg','True Pos']\n",
        "\n",
        "group_counts = ['{0:0.0f}'.format(value) for value in\n",
        "                cf_matrix1.flatten()]\n",
        "\n",
        "group_percentages = ['{0:.2%}'.format(value) for value in\n",
        "                     cf_matrix1.flatten()/np.sum(cf_matrix1)]\n",
        "\n",
        "labels = [f'{v1}\\n{v2}\\n{v3}' for v1, v2, v3 in\n",
        "          zip(group_names,group_counts,group_percentages)]\n",
        "\n",
        "labels = np.asarray(labels).reshape(2,2)\n",
        "\n",
        "sns.heatmap(cf_matrix1, annot=labels, fmt='', cmap='Blues')\n",
        "plt.title(f'Confusion matrix, n = {len(y_val)}', fontsize=15);\n",
        "plt.xlabel('Predicted Label',fontsize=15)\n",
        "plt.ylabel('Actual Label',fontsize=15)"
      ],
      "execution_count": null,
      "outputs": [
        {
          "output_type": "execute_result",
          "data": {
            "text/plain": [
              "Text(33.0, 0.5, 'Actual Label')"
            ]
          },
          "metadata": {},
          "execution_count": 194
        },
        {
          "output_type": "display_data",
          "data": {
            "image/png": "[encoded data removed]",
            "text/plain": [
              "<Figure size 432x288 with 2 Axes>"
            ]
          },
          "metadata": {
            "needs_background": "light"
          }
        }
      ]
    },
    {
      "cell_type": "code",
      "metadata": {
        "id": "3cs6q5FeSU5R",
        "colab": {
          "base_uri": "https://localhost:8080/",
          "height": 419
        },
        "outputId": "aeb0b1fa-ed4d-4a1f-af25-8d5b73cca135"
      },
      "source": [
        "from sklearn.metrics import roc_curve\n",
        "\n",
        "# roc_curve(타겟값, prob of 1)\n",
        "fpr, tpr, thresholds = roc_curve(y_val, y_pred_proba)\n",
        "\n",
        "roc = pd.DataFrame({\n",
        "    'FPR(Fall-out)': fpr, \n",
        "    'TPRate(Recall)': tpr, \n",
        "    'Threshold': thresholds\n",
        "})\n",
        "roc"
      ],
      "execution_count": null,
      "outputs": [
        {
          "output_type": "execute_result",
          "data": {
            "text/html": [
              "<div>\n",
              "<style scoped>\n",
              "    .dataframe tbody tr th:only-of-type {\n",
              "        vertical-align: middle;\n",
              "    }\n",
              "\n",
              "    .dataframe tbody tr th {\n",
              "        vertical-align: top;\n",
              "    }\n",
              "\n",
              "    .dataframe thead th {\n",
              "        text-align: right;\n",
              "    }\n",
              "</style>\n",
              "<table border=\"1\" class=\"dataframe\">\n",
              "  <thead>\n",
              "    <tr style=\"text-align: right;\">\n",
              "      <th></th>\n",
              "      <th>FPR(Fall-out)</th>\n",
              "      <th>TPRate(Recall)</th>\n",
              "      <th>Threshold</th>\n",
              "    </tr>\n",
              "  </thead>\n",
              "  <tbody>\n",
              "    <tr>\n",
              "      <th>0</th>\n",
              "      <td>0.000000</td>\n",
              "      <td>0.000000</td>\n",
              "      <td>1.920089</td>\n",
              "    </tr>\n",
              "    <tr>\n",
              "      <th>1</th>\n",
              "      <td>0.000000</td>\n",
              "      <td>0.000188</td>\n",
              "      <td>0.920089</td>\n",
              "    </tr>\n",
              "    <tr>\n",
              "      <th>2</th>\n",
              "      <td>0.000000</td>\n",
              "      <td>0.010915</td>\n",
              "      <td>0.905329</td>\n",
              "    </tr>\n",
              "    <tr>\n",
              "      <th>3</th>\n",
              "      <td>0.000011</td>\n",
              "      <td>0.010915</td>\n",
              "      <td>0.905306</td>\n",
              "    </tr>\n",
              "    <tr>\n",
              "      <th>4</th>\n",
              "      <td>0.000011</td>\n",
              "      <td>0.012044</td>\n",
              "      <td>0.903811</td>\n",
              "    </tr>\n",
              "    <tr>\n",
              "      <th>...</th>\n",
              "      <td>...</td>\n",
              "      <td>...</td>\n",
              "      <td>...</td>\n",
              "    </tr>\n",
              "    <tr>\n",
              "      <th>12815</th>\n",
              "      <td>0.942287</td>\n",
              "      <td>1.000000</td>\n",
              "      <td>0.000015</td>\n",
              "    </tr>\n",
              "    <tr>\n",
              "      <th>12816</th>\n",
              "      <td>0.942309</td>\n",
              "      <td>1.000000</td>\n",
              "      <td>0.000011</td>\n",
              "    </tr>\n",
              "    <tr>\n",
              "      <th>12817</th>\n",
              "      <td>0.999923</td>\n",
              "      <td>1.000000</td>\n",
              "      <td>0.000010</td>\n",
              "    </tr>\n",
              "    <tr>\n",
              "      <th>12818</th>\n",
              "      <td>0.999967</td>\n",
              "      <td>1.000000</td>\n",
              "      <td>0.000010</td>\n",
              "    </tr>\n",
              "    <tr>\n",
              "      <th>12819</th>\n",
              "      <td>1.000000</td>\n",
              "      <td>1.000000</td>\n",
              "      <td>0.000008</td>\n",
              "    </tr>\n",
              "  </tbody>\n",
              "</table>\n",
              "<p>12820 rows × 3 columns</p>\n",
              "</div>"
            ],
            "text/plain": [
              "       FPR(Fall-out)  TPRate(Recall)  Threshold\n",
              "0           0.000000        0.000000   1.920089\n",
              "1           0.000000        0.000188   0.920089\n",
              "2           0.000000        0.010915   0.905329\n",
              "3           0.000011        0.010915   0.905306\n",
              "4           0.000011        0.012044   0.903811\n",
              "...              ...             ...        ...\n",
              "12815       0.942287        1.000000   0.000015\n",
              "12816       0.942309        1.000000   0.000011\n",
              "12817       0.999923        1.000000   0.000010\n",
              "12818       0.999967        1.000000   0.000010\n",
              "12819       1.000000        1.000000   0.000008\n",
              "\n",
              "[12820 rows x 3 columns]"
            ]
          },
          "metadata": {},
          "execution_count": 195
        }
      ]
    },
    {
      "cell_type": "code",
      "metadata": {
        "id": "JDhU6OPN-Tr-",
        "colab": {
          "base_uri": "https://localhost:8080/",
          "height": 419
        },
        "outputId": "85b9175f-c52d-404d-cd60-4a654fc619a2"
      },
      "source": [
        "fpr1, tpr1, thresholds1 = roc_curve(y_train, y_pred_proba1)\n",
        "\n",
        "roc1 = pd.DataFrame({\n",
        "    'FPR(Fall-out)': fpr1, \n",
        "    'TPRate(Recall)': tpr1, \n",
        "    'Threshold': thresholds1\n",
        "})\n",
        "roc1"
      ],
      "execution_count": null,
      "outputs": [
        {
          "output_type": "execute_result",
          "data": {
            "text/html": [
              "<div>\n",
              "<style scoped>\n",
              "    .dataframe tbody tr th:only-of-type {\n",
              "        vertical-align: middle;\n",
              "    }\n",
              "\n",
              "    .dataframe tbody tr th {\n",
              "        vertical-align: top;\n",
              "    }\n",
              "\n",
              "    .dataframe thead th {\n",
              "        text-align: right;\n",
              "    }\n",
              "</style>\n",
              "<table border=\"1\" class=\"dataframe\">\n",
              "  <thead>\n",
              "    <tr style=\"text-align: right;\">\n",
              "      <th></th>\n",
              "      <th>FPR(Fall-out)</th>\n",
              "      <th>TPRate(Recall)</th>\n",
              "      <th>Threshold</th>\n",
              "    </tr>\n",
              "  </thead>\n",
              "  <tbody>\n",
              "    <tr>\n",
              "      <th>0</th>\n",
              "      <td>0.000000</td>\n",
              "      <td>0.000000</td>\n",
              "      <td>1.923521</td>\n",
              "    </tr>\n",
              "    <tr>\n",
              "      <th>1</th>\n",
              "      <td>0.000000</td>\n",
              "      <td>0.000048</td>\n",
              "      <td>0.923521</td>\n",
              "    </tr>\n",
              "    <tr>\n",
              "      <th>2</th>\n",
              "      <td>0.000000</td>\n",
              "      <td>0.002106</td>\n",
              "      <td>0.913077</td>\n",
              "    </tr>\n",
              "    <tr>\n",
              "      <th>3</th>\n",
              "      <td>0.000000</td>\n",
              "      <td>0.002201</td>\n",
              "      <td>0.913071</td>\n",
              "    </tr>\n",
              "    <tr>\n",
              "      <th>4</th>\n",
              "      <td>0.000000</td>\n",
              "      <td>0.003158</td>\n",
              "      <td>0.911509</td>\n",
              "    </tr>\n",
              "    <tr>\n",
              "      <th>...</th>\n",
              "      <td>...</td>\n",
              "      <td>...</td>\n",
              "      <td>...</td>\n",
              "    </tr>\n",
              "    <tr>\n",
              "      <th>44709</th>\n",
              "      <td>0.942162</td>\n",
              "      <td>1.000000</td>\n",
              "      <td>0.000011</td>\n",
              "    </tr>\n",
              "    <tr>\n",
              "      <th>44710</th>\n",
              "      <td>0.999920</td>\n",
              "      <td>1.000000</td>\n",
              "      <td>0.000010</td>\n",
              "    </tr>\n",
              "    <tr>\n",
              "      <th>44711</th>\n",
              "      <td>0.999967</td>\n",
              "      <td>1.000000</td>\n",
              "      <td>0.000010</td>\n",
              "    </tr>\n",
              "    <tr>\n",
              "      <th>44712</th>\n",
              "      <td>0.999978</td>\n",
              "      <td>1.000000</td>\n",
              "      <td>0.000009</td>\n",
              "    </tr>\n",
              "    <tr>\n",
              "      <th>44713</th>\n",
              "      <td>1.000000</td>\n",
              "      <td>1.000000</td>\n",
              "      <td>0.000008</td>\n",
              "    </tr>\n",
              "  </tbody>\n",
              "</table>\n",
              "<p>44714 rows × 3 columns</p>\n",
              "</div>"
            ],
            "text/plain": [
              "       FPR(Fall-out)  TPRate(Recall)  Threshold\n",
              "0           0.000000        0.000000   1.923521\n",
              "1           0.000000        0.000048   0.923521\n",
              "2           0.000000        0.002106   0.913077\n",
              "3           0.000000        0.002201   0.913071\n",
              "4           0.000000        0.003158   0.911509\n",
              "...              ...             ...        ...\n",
              "44709       0.942162        1.000000   0.000011\n",
              "44710       0.999920        1.000000   0.000010\n",
              "44711       0.999967        1.000000   0.000010\n",
              "44712       0.999978        1.000000   0.000009\n",
              "44713       1.000000        1.000000   0.000008\n",
              "\n",
              "[44714 rows x 3 columns]"
            ]
          },
          "metadata": {},
          "execution_count": 198
        }
      ]
    },
    {
      "cell_type": "code",
      "metadata": {
        "id": "GvRZIprxSU8m",
        "colab": {
          "base_uri": "https://localhost:8080/",
          "height": 295
        },
        "outputId": "b7a6b1ce-0f44-4a88-a620-86a89116f9a7"
      },
      "source": [
        "plt.scatter(fpr, tpr)\n",
        "plt.title('ROC curve')\n",
        "plt.xlabel('False Positive Rate')\n",
        "plt.ylabel('True Positive Rate');"
      ],
      "execution_count": null,
      "outputs": [
        {
          "output_type": "display_data",
          "data": {
            "image/png": "[encoded data removed]",
            "text/plain": [
              "<Figure size 432x288 with 1 Axes>"
            ]
          },
          "metadata": {
            "needs_background": "light"
          }
        }
      ]
    },
    {
      "cell_type": "code",
      "metadata": {
        "id": "7KljQAR3-e9t",
        "colab": {
          "base_uri": "https://localhost:8080/",
          "height": 295
        },
        "outputId": "0477dc04-8b3f-4dd7-a6bd-4b54dca40f78"
      },
      "source": [
        "plt.scatter(fpr1, tpr1)\n",
        "plt.title('ROC curve')\n",
        "plt.xlabel('False Positive Rate')\n",
        "plt.ylabel('True Positive Rate');"
      ],
      "execution_count": null,
      "outputs": [
        {
          "output_type": "display_data",
          "data": {
            "image/png": "[encoded data removed]",
            "text/plain": [
              "<Figure size 432x288 with 1 Axes>"
            ]
          },
          "metadata": {
            "needs_background": "light"
          }
        }
      ]
    },
    {
      "cell_type": "code",
      "metadata": {
        "id": "9ZROfV_fSU_d",
        "colab": {
          "base_uri": "https://localhost:8080/"
        },
        "outputId": "d645a30f-a9f5-4e1d-b8f4-1cd0b4d42360"
      },
      "source": [
        "# threshold 최대값의 인덱스, np.argmax()\n",
        "optimal_idx = np.argmax(tpr - fpr)\n",
        "optimal_threshold = thresholds[optimal_idx]\n",
        "\n",
        "print('idx:', optimal_idx, ', threshold:', optimal_threshold)"
      ],
      "execution_count": null,
      "outputs": [
        {
          "output_type": "stream",
          "name": "stdout",
          "text": [
            "idx: 5386 , threshold: 0.06013330389386193\n"
          ]
        }
      ]
    },
    {
      "cell_type": "code",
      "metadata": {
        "id": "z6N3O9AJwS3R",
        "colab": {
          "base_uri": "https://localhost:8080/",
          "height": 265
        },
        "outputId": "8b2226d5-91c6-441c-e93b-17adb9faa405"
      },
      "source": [
        "plt.plot(tpr-fpr);"
      ],
      "execution_count": null,
      "outputs": [
        {
          "output_type": "display_data",
          "data": {
            "image/png": "[encoded data removed]",
            "text/plain": [
              "<Figure size 432x288 with 1 Axes>"
            ]
          },
          "metadata": {
            "needs_background": "light"
          }
        }
      ]
    },
    {
      "cell_type": "code",
      "metadata": {
        "id": "lXtwI7iNwS6H",
        "colab": {
          "base_uri": "https://localhost:8080/"
        },
        "outputId": "dce55787-a48d-4945-f522-129630c4eb46"
      },
      "source": [
        "y_pred_optimal = y_pred_proba >= optimal_threshold\n",
        "print(classification_report(y_val, y_pred_optimal))"
      ],
      "execution_count": null,
      "outputs": [
        {
          "output_type": "stream",
          "name": "stdout",
          "text": [
            "              precision    recall  f1-score   support\n",
            "\n",
            "         0.0       1.00      0.90      0.95     90447\n",
            "         1.0       0.36      0.97      0.53      5314\n",
            "\n",
            "    accuracy                           0.90     95761\n",
            "   macro avg       0.68      0.93      0.74     95761\n",
            "weighted avg       0.96      0.90      0.92     95761\n",
            "\n"
          ]
        }
      ]
    },
    {
      "cell_type": "code",
      "metadata": {
        "id": "nYpSx_I7wS8n",
        "colab": {
          "base_uri": "https://localhost:8080/"
        },
        "outputId": "b95501f9-11e0-47a8-cef8-c62d8a12499d"
      },
      "source": [
        "from sklearn.metrics import roc_auc_score\n",
        "auc_score = roc_auc_score(y_val, y_pred_proba)\n",
        "auc_score"
      ],
      "execution_count": null,
      "outputs": [
        {
          "output_type": "execute_result",
          "data": {
            "text/plain": [
              "0.9753106220703804"
            ]
          },
          "metadata": {},
          "execution_count": 202
        }
      ]
    },
    {
      "cell_type": "code",
      "metadata": {
        "id": "l9gKtF3Oef_a",
        "colab": {
          "base_uri": "https://localhost:8080/"
        },
        "outputId": "59e6ed01-1cc5-40d8-94b5-914c6a51559f"
      },
      "source": [
        "pipe"
      ],
      "execution_count": null,
      "outputs": [
        {
          "output_type": "execute_result",
          "data": {
            "text/plain": [
              "Pipeline(memory=None,\n",
              "         steps=[('targetencoder',\n",
              "                 TargetEncoder(cols=['trafficSource'], drop_invariant=False,\n",
              "                               handle_missing='value', handle_unknown='value',\n",
              "                               min_samples_leaf=1, return_df=True,\n",
              "                               smoothing=1.0, verbose=0)),\n",
              "                ('simpleimputer',\n",
              "                 SimpleImputer(add_indicator=False, copy=True, fill_value=None,\n",
              "                               missing_values=nan, strategy='median',\n",
              "                               verbose=0)),\n",
              "                ('randomforestc...\n",
              "                 RandomForestClassifier(bootstrap=True, ccp_alpha=0.0,\n",
              "                                        class_weight=None, criterion='gini',\n",
              "                                        max_depth=10, max_features='auto',\n",
              "                                        max_leaf_nodes=None, max_samples=None,\n",
              "                                        min_impurity_decrease=0.0,\n",
              "                                        min_impurity_split=None,\n",
              "                                        min_samples_leaf=1, min_samples_split=2,\n",
              "                                        min_weight_fraction_leaf=0.0,\n",
              "                                        n_estimators=100, n_jobs=-1,\n",
              "                                        oob_score=False, random_state=1234,\n",
              "                                        verbose=0, warm_start=False))],\n",
              "         verbose=False)"
            ]
          },
          "metadata": {},
          "execution_count": 156
        }
      ]
    },
    {
      "cell_type": "code",
      "metadata": {
        "id": "mRyWV42KwTCP",
        "colab": {
          "base_uri": "https://localhost:8080/"
        },
        "outputId": "dc5bcff2-c477-467c-fd7d-19231e8e68ec"
      },
      "source": [
        "pipe = make_pipeline(\n",
        "    # TargetEncoder: 범주형 변수 인코더로, 타겟값을 특성의 범주별로 평균내어 그 값으로 인코딩\n",
        "    TargetEncoder(min_samples_leaf=1, smoothing=1), \n",
        "    SimpleImputer(strategy='median'), \n",
        "    #RandomForestClassifier(n_estimators=100, max_depth = 10, n_jobs=-1, random_state=1234)\n",
        ")\n",
        "X_train3 = pipe.fit_transform(X_train, y_train)"
      ],
      "execution_count": null,
      "outputs": [
        {
          "output_type": "stream",
          "name": "stderr",
          "text": [
            "/usr/local/lib/python3.7/dist-packages/category_encoders/utils.py:21: FutureWarning: is_categorical is deprecated and will be removed in a future version.  Use is_categorical_dtype instead\n",
            "  elif pd.api.types.is_categorical(cols):\n"
          ]
        }
      ]
    },
    {
      "cell_type": "code",
      "metadata": {
        "id": "tKkeQlV9wTFL",
        "colab": {
          "base_uri": "https://localhost:8080/"
        },
        "outputId": "a143fedd-3d45-4d00-8f31-3cb6b73b0241"
      },
      "source": [
        "param_list ={'n_estimators': [90,100,110],\n",
        "             'max_depth':[8,10,12],\n",
        "             'max_features':[0.05,0.15,0.2]\n",
        "}\n",
        "\n",
        "rf = RandomForestClassifier(n_estimators=100, max_depth = 10, n_jobs=-1, random_state=1234)\n",
        "grid_cv = GridSearchCV(rf, param_grid=param_list, n_jobs=-1)\n",
        "grid_cv.fit(X_train3, y_train)"
      ],
      "execution_count": null,
      "outputs": [
        {
          "output_type": "execute_result",
          "data": {
            "text/plain": [
              "GridSearchCV(cv=None, error_score=nan,\n",
              "             estimator=RandomForestClassifier(bootstrap=True, ccp_alpha=0.0,\n",
              "                                              class_weight=None,\n",
              "                                              criterion='gini', max_depth=10,\n",
              "                                              max_features='auto',\n",
              "                                              max_leaf_nodes=None,\n",
              "                                              max_samples=None,\n",
              "                                              min_impurity_decrease=0.0,\n",
              "                                              min_impurity_split=None,\n",
              "                                              min_samples_leaf=1,\n",
              "                                              min_samples_split=2,\n",
              "                                              min_weight_fraction_leaf=0.0,\n",
              "                                              n_estimators=100, n_jobs=-1,\n",
              "                                              oob_score=False,\n",
              "                                              random_state=1234, verbose=0,\n",
              "                                              warm_start=False),\n",
              "             iid='deprecated', n_jobs=-1,\n",
              "             param_grid={'max_depth': [8, 10, 12],\n",
              "                         'max_features': [0.05, 0.15, 0.2],\n",
              "                         'n_estimators': [90, 100, 110]},\n",
              "             pre_dispatch='2*n_jobs', refit=True, return_train_score=False,\n",
              "             scoring=None, verbose=0)"
            ]
          },
          "metadata": {},
          "execution_count": 158
        }
      ]
    },
    {
      "cell_type": "code",
      "metadata": {
        "id": "MufuLRkrwTH3",
        "colab": {
          "base_uri": "https://localhost:8080/"
        },
        "outputId": "bd846dde-e23f-4563-e3a1-a90eeafbdb3c"
      },
      "source": [
        "print('best parameters : \\n', grid_cv.best_params_)"
      ],
      "execution_count": null,
      "outputs": [
        {
          "output_type": "stream",
          "name": "stdout",
          "text": [
            "best parameters : \n",
            " {'max_depth': 12, 'max_features': 0.2, 'n_estimators': 100}\n"
          ]
        }
      ]
    },
    {
      "cell_type": "code",
      "metadata": {
        "id": "zhVofjnnwTKu",
        "colab": {
          "base_uri": "https://localhost:8080/"
        },
        "outputId": "f541d0ed-2039-4ffb-9e4d-c214fdfa2ecd"
      },
      "source": [
        "param_list ={'n_estimators': [100],\n",
        "             'max_depth':[12,14],\n",
        "             'max_features':[0.2,0.3]\n",
        "}\n",
        "\n",
        "rf = RandomForestClassifier(n_estimators=100, max_depth = 10, n_jobs=-1, random_state=1234)\n",
        "grid_cv = GridSearchCV(rf, param_grid=param_list, n_jobs=-1)\n",
        "grid_cv.fit(X_train3, y_train)"
      ],
      "execution_count": null,
      "outputs": [
        {
          "output_type": "execute_result",
          "data": {
            "text/plain": [
              "GridSearchCV(cv=None, error_score=nan,\n",
              "             estimator=RandomForestClassifier(bootstrap=True, ccp_alpha=0.0,\n",
              "                                              class_weight=None,\n",
              "                                              criterion='gini', max_depth=10,\n",
              "                                              max_features='auto',\n",
              "                                              max_leaf_nodes=None,\n",
              "                                              max_samples=None,\n",
              "                                              min_impurity_decrease=0.0,\n",
              "                                              min_impurity_split=None,\n",
              "                                              min_samples_leaf=1,\n",
              "                                              min_samples_split=2,\n",
              "                                              min_weight_fraction_leaf=0.0,\n",
              "                                              n_estimators=100, n_jobs=-1,\n",
              "                                              oob_score=False,\n",
              "                                              random_state=1234, verbose=0,\n",
              "                                              warm_start=False),\n",
              "             iid='deprecated', n_jobs=-1,\n",
              "             param_grid={'max_depth': [12, 14], 'max_features': [0.2, 0.3],\n",
              "                         'n_estimators': [100]},\n",
              "             pre_dispatch='2*n_jobs', refit=True, return_train_score=False,\n",
              "             scoring=None, verbose=0)"
            ]
          },
          "metadata": {},
          "execution_count": 160
        }
      ]
    },
    {
      "cell_type": "code",
      "metadata": {
        "id": "8H52ipp1wTNn",
        "colab": {
          "base_uri": "https://localhost:8080/"
        },
        "outputId": "f5b51700-49c9-4b9b-ce2b-4a530770f002"
      },
      "source": [
        "print('best parameters : \\n', grid_cv.best_params_)"
      ],
      "execution_count": null,
      "outputs": [
        {
          "output_type": "stream",
          "name": "stdout",
          "text": [
            "best parameters : \n",
            " {'max_depth': 14, 'max_features': 0.3, 'n_estimators': 100}\n"
          ]
        }
      ]
    },
    {
      "cell_type": "code",
      "metadata": {
        "id": "gJDjKLLCwTQv",
        "colab": {
          "base_uri": "https://localhost:8080/"
        },
        "outputId": "c10e04de-1440-47d1-e696-33e9ae7f64f9"
      },
      "source": [
        "param_list ={'n_estimators': [100],\n",
        "             'max_depth':[14,18],\n",
        "             'max_features':[0.3,0.6]\n",
        "}\n",
        "\n",
        "rf = RandomForestClassifier(n_estimators=100, max_depth = 10, n_jobs=-1, random_state=1234)\n",
        "grid_cv = GridSearchCV(rf, param_grid=param_list, n_jobs=-1)\n",
        "grid_cv.fit(X_train3, y_train)"
      ],
      "execution_count": null,
      "outputs": [
        {
          "output_type": "execute_result",
          "data": {
            "text/plain": [
              "GridSearchCV(cv=None, error_score=nan,\n",
              "             estimator=RandomForestClassifier(bootstrap=True, ccp_alpha=0.0,\n",
              "                                              class_weight=None,\n",
              "                                              criterion='gini', max_depth=10,\n",
              "                                              max_features='auto',\n",
              "                                              max_leaf_nodes=None,\n",
              "                                              max_samples=None,\n",
              "                                              min_impurity_decrease=0.0,\n",
              "                                              min_impurity_split=None,\n",
              "                                              min_samples_leaf=1,\n",
              "                                              min_samples_split=2,\n",
              "                                              min_weight_fraction_leaf=0.0,\n",
              "                                              n_estimators=100, n_jobs=-1,\n",
              "                                              oob_score=False,\n",
              "                                              random_state=1234, verbose=0,\n",
              "                                              warm_start=False),\n",
              "             iid='deprecated', n_jobs=-1,\n",
              "             param_grid={'max_depth': [14, 18], 'max_features': [0.3, 0.6],\n",
              "                         'n_estimators': [100]},\n",
              "             pre_dispatch='2*n_jobs', refit=True, return_train_score=False,\n",
              "             scoring=None, verbose=0)"
            ]
          },
          "metadata": {},
          "execution_count": 162
        }
      ]
    },
    {
      "cell_type": "code",
      "metadata": {
        "id": "aGGUd5Ltud8R",
        "colab": {
          "base_uri": "https://localhost:8080/"
        },
        "outputId": "7d368a5b-7bee-4899-f34e-b35f8c0dd127"
      },
      "source": [
        "print('best parameters : \\n', grid_cv.best_params_) \n",
        "#'max_depth': 13(12~14), 'max_features': 0.3(0.3~0.5), 'n_estimators': 100"
      ],
      "execution_count": null,
      "outputs": [
        {
          "output_type": "stream",
          "name": "stdout",
          "text": [
            "best parameters : \n",
            " {'max_depth': 14, 'max_features': 0.6, 'n_estimators': 100}\n"
          ]
        }
      ]
    },
    {
      "cell_type": "code",
      "metadata": {
        "colab": {
          "base_uri": "https://localhost:8080/"
        },
        "id": "SPQ1Y7uSHKzJ",
        "outputId": "ebf7a682-1f12-4020-f05c-58cb334ce8b1"
      },
      "source": [
        "!pip install shapely\n",
        "!pip install git+https://github.com/slundberg/shap.git"
      ],
      "execution_count": null,
      "outputs": [
        {
          "output_type": "stream",
          "name": "stdout",
          "text": [
            "Requirement already satisfied: shapely in /usr/local/lib/python3.7/dist-packages (1.7.1)\n",
            "Collecting git+https://github.com/slundberg/shap.git\n",
            "  Cloning https://github.com/slundberg/shap.git to /tmp/pip-req-build-891kjsb_\n",
            "  Running command git clone -q https://github.com/slundberg/shap.git /tmp/pip-req-build-891kjsb_\n",
            "  Installing build dependencies ... \u001b[?25l\u001b[?25hdone\n",
            "  Getting requirements to build wheel ... \u001b[?25l\u001b[?25hdone\n",
            "    Preparing wheel metadata ... \u001b[?25l\u001b[?25hdone\n",
            "Requirement already satisfied: numba in /usr/local/lib/python3.7/dist-packages (from shap==0.39.0) (0.51.2)\n",
            "Requirement already satisfied: cloudpickle in /usr/local/lib/python3.7/dist-packages (from shap==0.39.0) (1.3.0)\n",
            "Requirement already satisfied: numpy in /usr/local/lib/python3.7/dist-packages (from shap==0.39.0) (1.19.5)\n",
            "Requirement already satisfied: packaging>20.9 in /usr/local/lib/python3.7/dist-packages (from shap==0.39.0) (21.0)\n",
            "Collecting slicer==0.0.7\n",
            "  Downloading slicer-0.0.7-py3-none-any.whl (14 kB)\n",
            "Requirement already satisfied: scikit-learn in /usr/local/lib/python3.7/dist-packages (from shap==0.39.0) (0.22.2.post1)\n",
            "Requirement already satisfied: tqdm>4.25.0 in /usr/local/lib/python3.7/dist-packages (from shap==0.39.0) (4.62.0)\n",
            "Requirement already satisfied: scipy in /usr/local/lib/python3.7/dist-packages (from shap==0.39.0) (1.4.1)\n",
            "Requirement already satisfied: pandas in /usr/local/lib/python3.7/dist-packages (from shap==0.39.0) (1.1.5)\n",
            "Requirement already satisfied: pyparsing>=2.0.2 in /usr/local/lib/python3.7/dist-packages (from packaging>20.9->shap==0.39.0) (2.4.7)\n",
            "Requirement already satisfied: llvmlite<0.35,>=0.34.0.dev0 in /usr/local/lib/python3.7/dist-packages (from numba->shap==0.39.0) (0.34.0)\n",
            "Requirement already satisfied: setuptools in /usr/local/lib/python3.7/dist-packages (from numba->shap==0.39.0) (57.4.0)\n",
            "Requirement already satisfied: python-dateutil>=2.7.3 in /usr/local/lib/python3.7/dist-packages (from pandas->shap==0.39.0) (2.8.2)\n",
            "Requirement already satisfied: pytz>=2017.2 in /usr/local/lib/python3.7/dist-packages (from pandas->shap==0.39.0) (2018.9)\n",
            "Requirement already satisfied: six>=1.5 in /usr/local/lib/python3.7/dist-packages (from python-dateutil>=2.7.3->pandas->shap==0.39.0) (1.15.0)\n",
            "Requirement already satisfied: joblib>=0.11 in /usr/local/lib/python3.7/dist-packages (from scikit-learn->shap==0.39.0) (1.0.1)\n",
            "Building wheels for collected packages: shap\n",
            "  Building wheel for shap (PEP 517) ... \u001b[?25l\u001b[?25hdone\n",
            "  Created wheel for shap: filename=shap-0.39.0-cp37-cp37m-linux_x86_64.whl size=3084170 sha256=f6da633782c3901e74c56fa013de58b0acc28395f1547480f367d5acf86174b8\n",
            "  Stored in directory: /tmp/pip-ephem-wheel-cache-55l2fifw/wheels/2b/50/ba/b1868152380d067a5c83623f5d6244d4dabe5ad45e8f885437\n",
            "Successfully built shap\n",
            "Installing collected packages: slicer, shap\n",
            "Successfully installed shap-0.39.0 slicer-0.0.7\n"
          ]
        }
      ]
    },
    {
      "cell_type": "code",
      "metadata": {
        "id": "-QUZPlNAueBt"
      },
      "source": [
        ""
      ],
      "execution_count": null,
      "outputs": []
    },
    {
      "cell_type": "code",
      "metadata": {
        "id": "8WtyQ_kUueD3"
      },
      "source": [
        ""
      ],
      "execution_count": null,
      "outputs": []
    },
    {
      "cell_type": "code",
      "metadata": {
        "id": "mJ79FyIyueHA"
      },
      "source": [
        ""
      ],
      "execution_count": null,
      "outputs": []
    },
    {
      "cell_type": "code",
      "metadata": {
        "id": "xvacwFZ-ueJI"
      },
      "source": [
        ""
      ],
      "execution_count": null,
      "outputs": []
    },
    {
      "cell_type": "code",
      "metadata": {
        "id": "mlKahuI7ueLv"
      },
      "source": [
        ""
      ],
      "execution_count": null,
      "outputs": []
    }
  ]
}